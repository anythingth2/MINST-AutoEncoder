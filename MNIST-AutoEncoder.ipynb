{
 "cells": [
  {
   "cell_type": "code",
   "execution_count": 86,
   "metadata": {},
   "outputs": [],
   "source": [
    "from keras.datasets import mnist\n",
    "from keras.utils import to_categorical\n",
    "from keras.layers import Conv2D, Conv2DTranspose, Dense, Flatten, Reshape\n",
    "from keras.models import Sequential\n",
    "import matplotlib.pyplot as plt\n",
    "import numpy as np"
   ]
  },
  {
   "cell_type": "code",
   "execution_count": 3,
   "metadata": {},
   "outputs": [],
   "source": [
    "train_dataset, test_dataset = mnist.load_data()\n",
    "def preprocess(dataset):\n",
    "    xs, ys = dataset\n",
    "    xs = np.expand_dims(xs, axis=3)\n",
    "    ys = to_categorical(ys, 10)\n",
    "    return xs, ys\n",
    "xs_train, ys_train = preprocess(train_dataset)\n",
    "xs_test, ys_test = preprocess(test_dataset)\n"
   ]
  },
  {
   "cell_type": "code",
   "execution_count": 130,
   "metadata": {},
   "outputs": [
    {
     "name": "stdout",
     "output_type": "stream",
     "text": [
      "_________________________________________________________________\n",
      "Layer (type)                 Output Shape              Param #   \n",
      "=================================================================\n",
      "conv2d_83 (Conv2D)           (None, 26, 26, 16)        160       \n",
      "_________________________________________________________________\n",
      "conv2d_84 (Conv2D)           (None, 24, 24, 8)         1160      \n",
      "_________________________________________________________________\n",
      "conv2d_85 (Conv2D)           (None, 22, 22, 4)         292       \n",
      "_________________________________________________________________\n",
      "flatten_19 (Flatten)         (None, 1936)              0         \n",
      "_________________________________________________________________\n",
      "dense_19 (Dense)             (None, 49)                94913     \n",
      "_________________________________________________________________\n",
      "reshape_17 (Reshape)         (None, 7, 7, 1)           0         \n",
      "_________________________________________________________________\n",
      "conv2d_transpose_74 (Conv2DT (None, 14, 14, 4)         40        \n",
      "_________________________________________________________________\n",
      "conv2d_transpose_75 (Conv2DT (None, 28, 28, 1)         37        \n",
      "=================================================================\n",
      "Total params: 96,602\n",
      "Trainable params: 96,602\n",
      "Non-trainable params: 0\n",
      "_________________________________________________________________\n"
     ]
    }
   ],
   "source": [
    "model = Sequential()\n",
    "model.add(Conv2D(16, kernel_size=(3,3), activation='relu', input_shape=(28,28,1)))\n",
    "model.add(Conv2D(8, kernel_size=(3,3), activation='relu'))\n",
    "model.add(Conv2D(4, kernel_size=(3,3), activation='relu'))\n",
    "model.add(Flatten())\n",
    "model.add(Dense(49))\n",
    "model.add(Reshape((7,7,1)))\n",
    "model.add(Conv2DTranspose(4, kernel_size=(3,3), padding='same', strides=(2,2),  activation='relu'))\n",
    "model.add(Conv2DTranspose(1, kernel_size=(3,3), padding='same', strides=(2,2),  activation='relu'))\n",
    "# model.add(Conv2DTranspose(1, kernel_size=(3,3), padding='same', strides=(2,2),  activation='relu'))\n",
    "\n",
    "model.summary()\n",
    "model.compile(optimizer='adam', loss='mse', metrics=['acc'])"
   ]
  },
  {
   "cell_type": "code",
   "execution_count": null,
   "metadata": {
    "scrolled": true
   },
   "outputs": [
    {
     "name": "stdout",
     "output_type": "stream",
     "text": [
      "Epoch 1/1\n",
      "  640/60000 [..............................] - ETA: 47s - loss: 2109.2268 - acc: 0.6827"
     ]
    }
   ],
   "source": [
    "model.fit(xs_train, xs_train)"
   ]
  },
  {
   "cell_type": "code",
   "execution_count": 108,
   "metadata": {},
   "outputs": [
    {
     "name": "stdout",
     "output_type": "stream",
     "text": [
      "10000/10000 [==============================] - 2s 186us/step\n"
     ]
    },
    {
     "data": {
      "text/plain": [
       "[1286.5920376953125, 0.7405632645606994]"
      ]
     },
     "execution_count": 108,
     "metadata": {},
     "output_type": "execute_result"
    }
   ],
   "source": [
    "model.evaluate(xs_test, xs_test)"
   ]
  },
  {
   "cell_type": "code",
   "execution_count": 122,
   "metadata": {},
   "outputs": [],
   "source": [
    "def visualize(img):\n",
    "    fig = plt.figure(figsize=(8, 8))\n",
    "    fig.add_subplot(1,2,1)\n",
    "    plt.imshow(img, cmap='gray')\n",
    "    img = np.expand_dims(img, axis=3)\n",
    "    predicted_img = model.predict(np.array([img]))[0]\n",
    "    predicted_img = np.squeeze(predicted_img)\n",
    "    fig.add_subplot(1,2,2)\n",
    "    plt.imshow(predicted_img, cmap='gray')"
   ]
  },
  {
   "cell_type": "code",
   "execution_count": 133,
   "metadata": {
    "collapsed": true
   },
   "outputs": [
    {
     "name": "stdout",
     "output_type": "stream",
     "text": [
      "4\n"
     ]
    },
    {
     "name": "stderr",
     "output_type": "stream",
     "text": [
      "/usr/local/lib/python3.7/site-packages/ipykernel_launcher.py:5: DeprecationWarning: Both axis > a.ndim and axis < -a.ndim - 1 are deprecated and will raise an AxisError in the future.\n",
      "  \"\"\"\n"
     ]
    },
    {
     "data": {
      "image/png": "[encoded data removed]",
      "text/plain": [
       "<Figure size 576x576 with 2 Axes>"
      ]
     },
     "metadata": {
      "needs_background": "light"
     },
     "output_type": "display_data"
    }
   ],
   "source": [
    "xs, ys = xs_test, ys_test\n",
    "index = np.random.randint(0,len(xs))\n",
    "img = np.squeeze(xs[index])\n",
    "print(np.argmax(ys[index]))\n",
    "visualize(img)"
   ]
  },
  {
   "cell_type": "code",
   "execution_count": 147,
   "metadata": {},
   "outputs": [
    {
     "name": "stderr",
     "output_type": "stream",
     "text": [
      "/usr/local/lib/python3.7/site-packages/ipykernel_launcher.py:5: DeprecationWarning: Both axis > a.ndim and axis < -a.ndim - 1 are deprecated and will raise an AxisError in the future.\n",
      "  \"\"\"\n"
     ]
    },
    {
     "data": {
      "image/png": "[encoded data removed]",
      "text/plain": [
       "<Figure size 576x576 with 2 Axes>"
      ]
     },
     "metadata": {
      "needs_background": "light"
     },
     "output_type": "display_data"
    }
   ],
   "source": [
    "img = np.squeeze(xs[2234])\n",
    "visualize(img)"
   ]
  },
  {
   "cell_type": "code",
   "execution_count": 119,
   "metadata": {},
   "outputs": [
    {
     "data": {
      "text/plain": [
       "True"
      ]
     },
     "execution_count": 119,
     "metadata": {},
     "output_type": "execute_result"
    }
   ],
   "source": []
  },
  {
   "cell_type": "code",
   "execution_count": null,
   "metadata": {},
   "outputs": [],
   "source": []
  }
 ],
 "metadata": {
  "kernelspec": {
   "display_name": "Python 3",
   "language": "python",
   "name": "python3"
  },
  "language_info": {
   "codemirror_mode": {
    "name": "ipython",
    "version": 3
   },
   "file_extension": ".py",
   "mimetype": "text/x-python",
   "name": "python",
   "nbconvert_exporter": "python",
   "pygments_lexer": "ipython3",
   "version": "3.7.3"
  }
 },
 "nbformat": 4,
 "nbformat_minor": 2
}
