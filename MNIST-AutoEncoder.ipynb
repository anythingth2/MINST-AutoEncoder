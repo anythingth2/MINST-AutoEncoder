{
 "cells": [
  {
   "cell_type": "code",
   "execution_count": 363,
   "metadata": {},
   "outputs": [],
   "source": [
    "from keras.datasets import mnist\n",
    "from keras.utils import to_categorical\n",
    "from keras.layers import Conv2D, Conv2DTranspose, Dense, Flatten, Reshape, MaxPool2D\n",
    "from keras.models import Sequential\n",
    "from keras.optimizers import Adam, SGD\n",
    "import cv2\n",
    "import matplotlib.pyplot as plt\n",
    "import numpy as np\n",
    "from imgaug import augmenters as iaa"
   ]
  },
  {
   "cell_type": "markdown",
   "metadata": {},
   "source": [
    "# Load dataset and add some noise "
   ]
  },
  {
   "cell_type": "code",
   "execution_count": 410,
   "metadata": {},
   "outputs": [],
   "source": [
    "train_dataset, test_dataset = mnist.load_data()\n",
    "def preprocess(dataset):\n",
    "    xs, ys = dataset\n",
    "    xs = xs / 255\n",
    "    xs = np.expand_dims(xs, axis=3)\n",
    "    ys = to_categorical(ys, 10)\n",
    "    return xs, ys\n",
    "def add_augmented_sample(xs):\n",
    "    seq = iaa.Sequential([\n",
    "        iaa.SaltAndPepper(0.05)\n",
    "    ])\n",
    "    xs = np.squeeze(xs)\n",
    "    augmented_xs = seq(images=xs*255)\n",
    "    augmented_xs = augmented_xs / 255\n",
    "    outputs = np.append(xs, xs, axis=0)\n",
    "    xs = np.append(xs, augmented_xs, axis=0)\n",
    "    return np.expand_dims(xs, axis=3), np.expand_dims(outputs, axis=3)\n",
    "xs_train, _ = preprocess(train_dataset)\n",
    "xs_train, outputs = add_augmented_sample(xs_train)\n",
    "xs_test, ys_test = preprocess(test_dataset)"
   ]
  },
  {
   "cell_type": "code",
   "execution_count": null,
   "metadata": {},
   "outputs": [],
   "source": []
  },
  {
   "cell_type": "code",
   "execution_count": 330,
   "metadata": {},
   "outputs": [
    {
     "name": "stdout",
     "output_type": "stream",
     "text": [
      "_________________________________________________________________\n",
      "Layer (type)                 Output Shape              Param #   \n",
      "=================================================================\n",
      "conv2d_140 (Conv2D)          (None, 14, 14, 8)         80        \n",
      "_________________________________________________________________\n",
      "conv2d_141 (Conv2D)          (None, 7, 7, 2)           146       \n",
      "_________________________________________________________________\n",
      "conv2d_transpose_128 (Conv2D (None, 14, 14, 8)         152       \n",
      "_________________________________________________________________\n",
      "conv2d_transpose_129 (Conv2D (None, 28, 28, 1)         73        \n",
      "=================================================================\n",
      "Total params: 451\n",
      "Trainable params: 451\n",
      "Non-trainable params: 0\n",
      "_________________________________________________________________\n"
     ]
    }
   ],
   "source": [
    "model = Sequential()\n",
    "model.add(Conv2D(8, kernel_size=(3,3), padding='same', strides=(2,2), activation='relu', input_shape=(28,28,1)))\n",
    "model.add(Conv2D(2, kernel_size=(3,3), padding='same', strides=(2,2), activation='relu'))\n",
    "model.add(Conv2DTranspose(8, kernel_size=(3,3), padding='same', strides=(2,2),  activation='relu'))\n",
    "model.add(Conv2DTranspose(1, kernel_size=(3,3), padding='same', strides=(2,2),  activation='relu'))\n",
    "\n",
    "model.summary()\n"
   ]
  },
  {
   "cell_type": "code",
   "execution_count": 331,
   "metadata": {},
   "outputs": [],
   "source": [
    "model.compile(optimizer=Adam(lr=0.01), loss='mse', metrics=['acc'])"
   ]
  },
  {
   "cell_type": "code",
   "execution_count": 431,
   "metadata": {
    "scrolled": true
   },
   "outputs": [
    {
     "name": "stdout",
     "output_type": "stream",
     "text": [
      "Epoch 1/1\n",
      "120000/120000 [==============================] - 131s 1ms/step - loss: 0.0101 - acc: 0.8132\n"
     ]
    },
    {
     "data": {
      "text/plain": [
       "<keras.callbacks.History at 0x1568fbfd0>"
      ]
     },
     "execution_count": 431,
     "metadata": {},
     "output_type": "execute_result"
    }
   ],
   "source": [
    "model.fit(xs_train, outputs, shuffle=True, batch_size=4)"
   ]
  },
  {
   "cell_type": "code",
   "execution_count": 210,
   "metadata": {
    "collapsed": true
   },
   "outputs": [
    {
     "name": "stdout",
     "output_type": "stream",
     "text": [
      "10000/10000 [==============================] - 2s 178us/step\n"
     ]
    },
    {
     "data": {
      "text/plain": [
       "[7410.1257703125, 0.8072424739837647]"
      ]
     },
     "execution_count": 210,
     "metadata": {},
     "output_type": "execute_result"
    }
   ],
   "source": [
    "model.evaluate(xs_test, xs_test)"
   ]
  },
  {
   "cell_type": "code",
   "execution_count": 266,
   "metadata": {},
   "outputs": [],
   "source": [
    "def visualize(img):\n",
    "    fig = plt.figure(figsize=(8, 8))\n",
    "    fig.add_subplot(1,2,1)\n",
    "    plt.imshow(img, cmap='gray', vmin=0, vmax=1)\n",
    "    img = np.expand_dims(img, axis=3)\n",
    "    predicted_img = model.predict(np.array([img]))[0]\n",
    "    predicted_img = np.squeeze(predicted_img)\n",
    "    fig.add_subplot(1,2,2)\n",
    "    plt.imshow(predicted_img, cmap='gray', vmin=0, vmax=1)"
   ]
  },
  {
   "cell_type": "code",
   "execution_count": 432,
   "metadata": {},
   "outputs": [
    {
     "name": "stderr",
     "output_type": "stream",
     "text": [
      "/usr/local/lib/python3.7/site-packages/ipykernel_launcher.py:5: DeprecationWarning: Both axis > a.ndim and axis < -a.ndim - 1 are deprecated and will raise an AxisError in the future.\n",
      "  \"\"\"\n"
     ]
    },
    {
     "data": {
      "image/png": "[encoded data removed]",
      "text/plain": [
       "<Figure size 576x576 with 2 Axes>"
      ]
     },
     "metadata": {
      "needs_background": "light"
     },
     "output_type": "display_data"
    }
   ],
   "source": [
    "xs = xs_train\n",
    "index = np.random.randint(0,len(xs))\n",
    "img = np.squeeze(xs[index])\n",
    "visualize(img)"
   ]
  },
  {
   "cell_type": "code",
   "execution_count": 429,
   "metadata": {},
   "outputs": [
    {
     "name": "stderr",
     "output_type": "stream",
     "text": [
      "/usr/local/lib/python3.7/site-packages/ipykernel_launcher.py:5: DeprecationWarning: Both axis > a.ndim and axis < -a.ndim - 1 are deprecated and will raise an AxisError in the future.\n",
      "  \"\"\"\n"
     ]
    },
    {
     "data": {
      "image/png": "[encoded data removed]",
      "text/plain": [
       "<Figure size 576x576 with 2 Axes>"
      ]
     },
     "metadata": {
      "needs_background": "light"
     },
     "output_type": "display_data"
    }
   ],
   "source": [
    "img = np.zeros((28,28))\n",
    "img = cv2.circle(img, (14,14), 8, 0.75)\n",
    "visualize(img)"
   ]
  },
  {
   "cell_type": "code",
   "execution_count": null,
   "metadata": {},
   "outputs": [],
   "source": []
  },
  {
   "cell_type": "code",
   "execution_count": null,
   "metadata": {},
   "outputs": [],
   "source": []
  }
 ],
 "metadata": {
  "kernelspec": {
   "display_name": "Python 3",
   "language": "python",
   "name": "python3"
  },
  "language_info": {
   "codemirror_mode": {
    "name": "ipython",
    "version": 3
   },
   "file_extension": ".py",
   "mimetype": "text/x-python",
   "name": "python",
   "nbconvert_exporter": "python",
   "pygments_lexer": "ipython3",
   "version": "3.7.3"
  }
 },
 "nbformat": 4,
 "nbformat_minor": 2
}
