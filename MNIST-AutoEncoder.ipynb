{
 "cells": [
  {
   "cell_type": "code",
   "execution_count": 8,
   "metadata": {},
   "outputs": [],
   "source": [
    "from keras.datasets import mnist\n",
    "from keras.utils import to_categorical\n",
    "from keras.layers import Conv2D, Conv2DTranspose, Dense, Flatten\n",
    "from keras.models import Sequential\n",
    "import matplotlib.pyplot as plt\n",
    "import numpy as np"
   ]
  },
  {
   "cell_type": "code",
   "execution_count": 3,
   "metadata": {},
   "outputs": [],
   "source": [
    "train_dataset, test_dataset = mnist.load_data()\n",
    "def preprocess(dataset):\n",
    "    xs, ys = dataset\n",
    "    xs = np.expand_dims(xs, axis=3)\n",
    "    ys = to_categorical(ys, 10)\n",
    "    return xs, ys\n",
    "xs_train, ys_train = preprocess(train_dataset)\n",
    "xs_test, ys_test = preprocess(test_dataset)\n"
   ]
  },
  {
   "cell_type": "code",
   "execution_count": 16,
   "metadata": {},
   "outputs": [
    {
     "name": "stdout",
     "output_type": "stream",
     "text": [
      "_________________________________________________________________\n",
      "Layer (type)                 Output Shape              Param #   \n",
      "=================================================================\n",
      "conv2d_18 (Conv2D)           (None, 26, 26, 16)        160       \n",
      "_________________________________________________________________\n",
      "conv2d_19 (Conv2D)           (None, 24, 24, 8)         1160      \n",
      "_________________________________________________________________\n",
      "conv2d_20 (Conv2D)           (None, 22, 22, 4)         292       \n",
      "_________________________________________________________________\n",
      "conv2d_transpose_14 (Conv2DT (None, 24, 24, 4)         148       \n",
      "_________________________________________________________________\n",
      "conv2d_transpose_15 (Conv2DT (None, 26, 26, 8)         296       \n",
      "_________________________________________________________________\n",
      "conv2d_transpose_16 (Conv2DT (None, 28, 28, 1)         73        \n",
      "=================================================================\n",
      "Total params: 2,129\n",
      "Trainable params: 2,129\n",
      "Non-trainable params: 0\n",
      "_________________________________________________________________\n"
     ]
    }
   ],
   "source": [
    "model = Sequential()\n",
    "model.add(Conv2D(16, kernel_size=(3,3), activation='relu', input_shape=(28,28,1)))\n",
    "model.add(Conv2D(8, kernel_size=(3,3), activation='relu'))\n",
    "model.add(Conv2D(4, kernel_size=(3,3), activation='relu'))\n",
    "model.add(Conv2DTranspose(4, kernel_size=(3,3), activation='relu'))\n",
    "model.add(Conv2DTranspose(8, kernel_size=(3,3), activation='relu'))\n",
    "model.add(Conv2DTranspose(1, kernel_size=(3,3), activation='relu'))\n",
    "\n",
    "model.summary()\n",
    "model.compile(optimizer='adam', loss='mse', metrics=['acc'])"
   ]
  },
  {
   "cell_type": "code",
   "execution_count": 17,
   "metadata": {},
   "outputs": [
    {
     "name": "stdout",
     "output_type": "stream",
     "text": [
      "Epoch 1/1\n",
      "60000/60000 [==============================] - 40s 668us/step - loss: 155.0552 - acc: 0.7817\n"
     ]
    },
    {
     "data": {
      "text/plain": [
       "<keras.callbacks.History at 0x13273e4e0>"
      ]
     },
     "execution_count": 17,
     "metadata": {},
     "output_type": "execute_result"
    }
   ],
   "source": [
    "model.fit(xs_train, xs_train)"
   ]
  },
  {
   "cell_type": "code",
   "execution_count": 57,
   "metadata": {},
   "outputs": [
    {
     "name": "stdout",
     "output_type": "stream",
     "text": [
      "10000/10000 [==============================] - 2s 223us/step\n"
     ]
    },
    {
     "data": {
      "text/plain": [
       "[14.26087798461914, 0.8066693875312805]"
      ]
     },
     "execution_count": 57,
     "metadata": {},
     "output_type": "execute_result"
    }
   ],
   "source": [
    "model.evaluate(xs_test, xs_test)"
   ]
  },
  {
   "cell_type": "code",
   "execution_count": 56,
   "metadata": {},
   "outputs": [
    {
     "name": "stdout",
     "output_type": "stream",
     "text": [
      "1\n"
     ]
    },
    {
     "data": {
      "text/plain": [
       "<matplotlib.image.AxesImage at 0x137779d68>"
      ]
     },
     "execution_count": 56,
     "metadata": {},
     "output_type": "execute_result"
    },
    {
     "data": {
      "image/png": "[encoded data removed]",
      "text/plain": [
       "<Figure size 576x576 with 2 Axes>"
      ]
     },
     "metadata": {
      "needs_background": "light"
     },
     "output_type": "display_data"
    }
   ],
   "source": [
    "xs, ys = xs_test, ys_test\n",
    "fig = plt.figure(figsize=(8, 8))\n",
    "\n",
    "index = np.random.randint(0,len(xs))\n",
    "img = np.squeeze(xs[index])\n",
    "print(np.argmax(ys[index]))\n",
    "fig.add_subplot(1,2,1)\n",
    "plt.imshow(img, cmap='gray')\n",
    "\n",
    "predicted_img = model.predict(np.array([xs[index]]))[0]\n",
    "predicted_img = np.squeeze(predicted_img)\n",
    "fig.add_subplot(1,2,2)\n",
    "plt.imshow(predicted_img, cmap='gray')\n"
   ]
  },
  {
   "cell_type": "code",
   "execution_count": null,
   "metadata": {},
   "outputs": [],
   "source": []
  },
  {
   "cell_type": "code",
   "execution_count": null,
   "metadata": {},
   "outputs": [],
   "source": []
  }
 ],
 "metadata": {
  "kernelspec": {
   "display_name": "Python 3",
   "language": "python",
   "name": "python3"
  },
  "language_info": {
   "codemirror_mode": {
    "name": "ipython",
    "version": 3
   },
   "file_extension": ".py",
   "mimetype": "text/x-python",
   "name": "python",
   "nbconvert_exporter": "python",
   "pygments_lexer": "ipython3",
   "version": "3.7.3"
  }
 },
 "nbformat": 4,
 "nbformat_minor": 2
}
